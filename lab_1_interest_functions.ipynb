{
  "nbformat": 4,
  "nbformat_minor": 0,
  "metadata": {
    "kernelspec": {
      "display_name": "Python 3",
      "language": "python",
      "name": "python3"
    },
    "language_info": {
      "codemirror_mode": {
        "name": "ipython",
        "version": 3
      },
      "file_extension": ".py",
      "mimetype": "text/x-python",
      "name": "python",
      "nbconvert_exporter": "python",
      "pygments_lexer": "ipython3",
      "version": "3.7.2"
    },
    "colab": {
      "name": "lab_1_interest_functions.ipynb",
      "provenance": [],
      "include_colab_link": true
    }
  },
  "cells": [
    {
      "cell_type": "markdown",
      "metadata": {
        "id": "view-in-github",
        "colab_type": "text"
      },
      "source": [
        "<a href=\"https://colab.research.google.com/github/lewyingshi/lab1_interest_functions/blob/master/lab_1_interest_functions.ipynb\" target=\"_parent\"><img src=\"https://colab.research.google.com/assets/colab-badge.svg\" alt=\"Open In Colab\"/></a>"
      ]
    },
    {
      "cell_type": "markdown",
      "metadata": {
        "id": "mGrxF88GuvC8",
        "colab_type": "text"
      },
      "source": [
        "## Lab 1 - Compound Interest Functions\n",
        "\n",
        "Below you will find a table of important formulae related to compound interest.  \n",
        "\n",
        "<img src=\"https://www.dummies.com/wp-content/uploads/251689.image0.jpg\" alt=\"image0.jpg\" width=\"400\" height=\"319\">\n",
        "\n",
        "In this lab, you will create functions for each of these using (and documenting) the following workflow.\n",
        "\n",
        "1. Work out the correct answer for a few examples. *Hint* Search for e.g. \"worked out compound interest examples\" on the web.\n",
        "2. Write a `lambda` function and test this function on your test cases.\n",
        "3. Convert the `lambda` function to a `def` statement with an informative doc string that follows the [Google formating rules](https://google.github.io/styleguide/pyguide.html#383-functions-and-methods).\n",
        "4. Write an automated test function (using your previous examples) that will test your `def` statement function each time the code is executed."
      ]
    },
    {
      "cell_type": "markdown",
      "metadata": {
        "id": "bjIbFm9LuvC9",
        "colab_type": "text"
      },
      "source": [
        "#### Problem 1 -- Apply the process to create a simple interest functions."
      ]
    },
    {
      "cell_type": "code",
      "metadata": {
        "id": "rzJ2E8LFuvC_",
        "colab_type": "code",
        "colab": {
          "base_uri": "https://localhost:8080/",
          "height": 34
        },
        "outputId": "c5df9291-5ac5-482d-bfd4-883c1693c8bf"
      },
      "source": [
        "P = 5000\n",
        "r = 0.045\n",
        "t = 3 \n",
        "P*r*t"
      ],
      "execution_count": 9,
      "outputs": [
        {
          "output_type": "execute_result",
          "data": {
            "text/plain": [
              "675.0"
            ]
          },
          "metadata": {
            "tags": []
          },
          "execution_count": 9
        }
      ]
    },
    {
      "cell_type": "code",
      "metadata": {
        "id": "7lXbyH2_M0N7",
        "colab_type": "code",
        "colab": {
          "base_uri": "https://localhost:8080/",
          "height": 34
        },
        "outputId": "2a78e27d-e35b-484a-ac34-b400c6e149cb"
      },
      "source": [
        "P = 4000\n",
        "r = 0.045\n",
        "t = 3 \n",
        "P*r*t"
      ],
      "execution_count": 10,
      "outputs": [
        {
          "output_type": "execute_result",
          "data": {
            "text/plain": [
              "540.0"
            ]
          },
          "metadata": {
            "tags": []
          },
          "execution_count": 10
        }
      ]
    },
    {
      "cell_type": "code",
      "metadata": {
        "id": "9gq4LCiZM_SZ",
        "colab_type": "code",
        "colab": {
          "base_uri": "https://localhost:8080/",
          "height": 34
        },
        "outputId": "7afb1f9f-828a-48d8-e5fb-d0d3ae86e5a1"
      },
      "source": [
        "P = 3000\n",
        "r = 0.12\n",
        "t = 2\n",
        "P*r*t"
      ],
      "execution_count": 11,
      "outputs": [
        {
          "output_type": "execute_result",
          "data": {
            "text/plain": [
              "720.0"
            ]
          },
          "metadata": {
            "tags": []
          },
          "execution_count": 11
        }
      ]
    },
    {
      "cell_type": "code",
      "metadata": {
        "id": "VRBEWmap1q-G",
        "colab_type": "code",
        "colab": {
          "base_uri": "https://localhost:8080/",
          "height": 34
        },
        "outputId": "d74f0fc9-e85b-44c4-dcc6-b0e1197000cd"
      },
      "source": [
        "# lambda expression\n",
        "simple_interest = lambda P, r, t: round(P*r*t)\n",
        "simple_interest(5000, 0.045, 3)"
      ],
      "execution_count": 12,
      "outputs": [
        {
          "output_type": "execute_result",
          "data": {
            "text/plain": [
              "675"
            ]
          },
          "metadata": {
            "tags": []
          },
          "execution_count": 12
        }
      ]
    },
    {
      "cell_type": "code",
      "metadata": {
        "id": "9zxkzVlZ2GQ3",
        "colab_type": "code",
        "colab": {
          "base_uri": "https://localhost:8080/",
          "height": 34
        },
        "outputId": "c54fc718-af67-4d13-915d-010271b4945e"
      },
      "source": [
        "simple_interest(4000, 0.045, 3)"
      ],
      "execution_count": 13,
      "outputs": [
        {
          "output_type": "execute_result",
          "data": {
            "text/plain": [
              "540"
            ]
          },
          "metadata": {
            "tags": []
          },
          "execution_count": 13
        }
      ]
    },
    {
      "cell_type": "code",
      "metadata": {
        "id": "REfVHg-G20PJ",
        "colab_type": "code",
        "colab": {
          "base_uri": "https://localhost:8080/",
          "height": 34
        },
        "outputId": "96df0ac9-1144-40ec-d3c2-02d4c2a39979"
      },
      "source": [
        "simple_interest(3000, 0.12, 2)"
      ],
      "execution_count": 14,
      "outputs": [
        {
          "output_type": "execute_result",
          "data": {
            "text/plain": [
              "720"
            ]
          },
          "metadata": {
            "tags": []
          },
          "execution_count": 14
        }
      ]
    },
    {
      "cell_type": "code",
      "metadata": {
        "id": "cfJwIkvJzkpo",
        "colab_type": "code",
        "colab": {}
      },
      "source": [
        "# def statement with docstring and test function\n",
        "def simple_interest(P, r, t):\n",
        "    \"\"\"\n",
        "    Computes simple interest \n",
        "\n",
        "    Args:\n",
        "        P = the principle (initial value) is the amount of money deposited or borrowed\n",
        "        r = interest rate is a percent of the principal earned or paid\n",
        "        t = time in years is the length of time the money is deposited or borrowed\n",
        "    \n",
        "    Returns:\n",
        "        Returns the amount needed to pay back\n",
        "    \"\"\"\n",
        "    output = round(P*r*t)\n",
        "    return output\n",
        "\n",
        "def test_simple_interest():\n",
        "    assert simple_interest(5000, 0.045, 3) == 675\n",
        "    assert simple_interest(6000, 0.05, 2) == 600\n",
        "    assert simple_interest(1000, 0.095, 5) == 475\n",
        "test_simple_interest()"
      ],
      "execution_count": 15,
      "outputs": []
    },
    {
      "cell_type": "markdown",
      "metadata": {
        "id": "y4w8uZlQuvDC",
        "colab_type": "text"
      },
      "source": [
        "#### Problem 2 -- Apply the process to create a compound interest functions."
      ]
    },
    {
      "cell_type": "code",
      "metadata": {
        "id": "xUMmpN7YuvDD",
        "colab_type": "code",
        "colab": {
          "base_uri": "https://localhost:8080/",
          "height": 34
        },
        "outputId": "0c00cfa0-de7d-4458-ec1f-51f7ea0a66c9"
      },
      "source": [
        "P = 1000\n",
        "r = 0.05\n",
        "n = 4\n",
        "t = 5\n",
        "\n",
        "P * (1 + r/n)**n*t"
      ],
      "execution_count": 16,
      "outputs": [
        {
          "output_type": "execute_result",
          "data": {
            "text/plain": [
              "5254.726684570311"
            ]
          },
          "metadata": {
            "tags": []
          },
          "execution_count": 16
        }
      ]
    },
    {
      "cell_type": "code",
      "metadata": {
        "id": "jlO6dKmANiw-",
        "colab_type": "code",
        "colab": {
          "base_uri": "https://localhost:8080/",
          "height": 34
        },
        "outputId": "ebb4e236-3db0-40c3-bd8e-2d31673c5ac3"
      },
      "source": [
        "P = 5000\n",
        "r = 0.03\n",
        "n = 12\n",
        "t = 5\n",
        "\n",
        "P * (1 + r/n)**n*t"
      ],
      "execution_count": 17,
      "outputs": [
        {
          "output_type": "execute_result",
          "data": {
            "text/plain": [
              "25760.398922837667"
            ]
          },
          "metadata": {
            "tags": []
          },
          "execution_count": 17
        }
      ]
    },
    {
      "cell_type": "code",
      "metadata": {
        "id": "PYizjd_HhgKZ",
        "colab_type": "code",
        "colab": {
          "base_uri": "https://localhost:8080/",
          "height": 34
        },
        "outputId": "42ede6b9-2324-4687-d26c-9b92f3f03dab"
      },
      "source": [
        "P = 12000\n",
        "r = 0.10\n",
        "n = 52\n",
        "t = 4\n",
        "\n",
        "P * (1 + r/n)**n*t"
      ],
      "execution_count": 18,
      "outputs": [
        {
          "output_type": "execute_result",
          "data": {
            "text/plain": [
              "53043.110053428776"
            ]
          },
          "metadata": {
            "tags": []
          },
          "execution_count": 18
        }
      ]
    },
    {
      "cell_type": "code",
      "metadata": {
        "id": "wP0KeP7q5OU7",
        "colab_type": "code",
        "colab": {
          "base_uri": "https://localhost:8080/",
          "height": 34
        },
        "outputId": "222396b5-95a3-4676-fc40-d72cd921f85b"
      },
      "source": [
        "# lambda expression\n",
        "compound_interest = lambda P, r, n, t: round(P * (1 + r/n)**n*t, 2)\n",
        "compound_interest(1000, 0.05, 4, 5)"
      ],
      "execution_count": 19,
      "outputs": [
        {
          "output_type": "execute_result",
          "data": {
            "text/plain": [
              "5254.73"
            ]
          },
          "metadata": {
            "tags": []
          },
          "execution_count": 19
        }
      ]
    },
    {
      "cell_type": "code",
      "metadata": {
        "id": "0HqWadJv5tlh",
        "colab_type": "code",
        "colab": {
          "base_uri": "https://localhost:8080/",
          "height": 34
        },
        "outputId": "48d132c6-30c3-45d2-ef12-d0b52574e492"
      },
      "source": [
        "compound_interest(5000, 0.03, 12, 5)"
      ],
      "execution_count": 20,
      "outputs": [
        {
          "output_type": "execute_result",
          "data": {
            "text/plain": [
              "25760.4"
            ]
          },
          "metadata": {
            "tags": []
          },
          "execution_count": 20
        }
      ]
    },
    {
      "cell_type": "code",
      "metadata": {
        "id": "q_gOT6schtTc",
        "colab_type": "code",
        "colab": {
          "base_uri": "https://localhost:8080/",
          "height": 34
        },
        "outputId": "6c1f4fee-1201-4601-a401-3ebaf61807c0"
      },
      "source": [
        "compound_interest(12000, 0.10, 52, 4)"
      ],
      "execution_count": 21,
      "outputs": [
        {
          "output_type": "execute_result",
          "data": {
            "text/plain": [
              "53043.11"
            ]
          },
          "metadata": {
            "tags": []
          },
          "execution_count": 21
        }
      ]
    },
    {
      "cell_type": "code",
      "metadata": {
        "id": "CZ7RupsV65Fh",
        "colab_type": "code",
        "colab": {}
      },
      "source": [
        "# def statement with docstring and test function\n",
        "def compound_interest(P, r, n, t):\n",
        "    \"\"\"\n",
        "    Computes compound interest\n",
        "\n",
        "    Args:\n",
        "        P = the principle (initial value) is the amount of money deposited or borrowed\n",
        "        r = interest rate is a percent of the principal earned or paid\n",
        "        n = number of compounding period\n",
        "        t = time in years is the length of time the money is deposited or borrowed\n",
        "\n",
        "    Returns:\n",
        "        Returns the amount after incorporating compounded time period and interest rate.\n",
        "    \"\"\"\n",
        "    output = round(P * (1 + r/n)**n*t, 2)\n",
        "    return output\n",
        "\n",
        "def test_compound_interest():\n",
        "    assert compound_interest(1000, 0.05, 4, 5) == 5254.73\n",
        "    assert compound_interest(5000, 0.03, 12, 5) == 25760.4\n",
        "    assert compound_interest(12000, 0.10, 52, 4) == 53043.11\n",
        "test_compound_interest()"
      ],
      "execution_count": 22,
      "outputs": []
    },
    {
      "cell_type": "markdown",
      "metadata": {
        "id": "X8mk1d2buvDH",
        "colab_type": "text"
      },
      "source": [
        "#### Problem 3 -- Apply the process to create a amortized loan payment function."
      ]
    },
    {
      "cell_type": "code",
      "metadata": {
        "id": "NhLHrnqfuvDR",
        "colab_type": "code",
        "colab": {
          "base_uri": "https://localhost:8080/",
          "height": 34
        },
        "outputId": "0cd89315-53de-4b29-b38b-b617a93b99b8"
      },
      "source": [
        "P = 100000\n",
        "i = 0.05 # annual rate\n",
        "n = 12\n",
        "\n",
        "monthly_rate = (1 + i)**(1/12) - 1\n",
        "monthly_rate # convert annual to monthly interest rates\n",
        "\n",
        "(P*monthly_rate)/(1-(1+monthly_rate)**(-n)) # determine monthly loan payment"
      ],
      "execution_count": 23,
      "outputs": [
        {
          "output_type": "execute_result",
          "data": {
            "text/plain": [
              "8555.659945661433"
            ]
          },
          "metadata": {
            "tags": []
          },
          "execution_count": 23
        }
      ]
    },
    {
      "cell_type": "code",
      "metadata": {
        "id": "l7MxRvHeThMr",
        "colab_type": "code",
        "colab": {
          "base_uri": "https://localhost:8080/",
          "height": 34
        },
        "outputId": "08770e83-0c21-49b3-9d57-7c02a14c47b9"
      },
      "source": [
        "P = 250000\n",
        "i = 0.06 # annual rate\n",
        "n = 32\n",
        "\n",
        "monthly_rate = (1 + i)**(1/12) - 1\n",
        "monthly_rate # convert annual to monthly interest rates\n",
        "\n",
        "(P*monthly_rate)/(1-(1+monthly_rate)**(-n)) # determine monthly loan payment"
      ],
      "execution_count": 24,
      "outputs": [
        {
          "output_type": "execute_result",
          "data": {
            "text/plain": [
              "8455.693012898997"
            ]
          },
          "metadata": {
            "tags": []
          },
          "execution_count": 24
        }
      ]
    },
    {
      "cell_type": "code",
      "metadata": {
        "id": "nIZtPK3ciPXA",
        "colab_type": "code",
        "colab": {
          "base_uri": "https://localhost:8080/",
          "height": 34
        },
        "outputId": "35795de5-e462-4093-98c9-54800ce07d20"
      },
      "source": [
        "P = 122000\n",
        "i = 0.09 # annual rate\n",
        "n = 14\n",
        "\n",
        "monthly_rate = (1 + i)**(1/12) - 1\n",
        "monthly_rate # convert annual to monthly interest rates\n",
        "\n",
        "(P*monthly_rate)/(1-(1+monthly_rate)**(-n)) # determine monthly loan payment"
      ],
      "execution_count": 25,
      "outputs": [
        {
          "output_type": "execute_result",
          "data": {
            "text/plain": [
              "9192.664006889232"
            ]
          },
          "metadata": {
            "tags": []
          },
          "execution_count": 25
        }
      ]
    },
    {
      "cell_type": "code",
      "metadata": {
        "id": "-ZuXiS-gWPNG",
        "colab_type": "code",
        "colab": {
          "base_uri": "https://localhost:8080/",
          "height": 34
        },
        "outputId": "387cdd4b-d048-4786-845d-be54cee4d63a"
      },
      "source": [
        "# lambda expression(s)\n",
        "monthly_rate = lambda i: float((1 + i)**(1/12) - 1)\n",
        "monthly_rate(0.05) # convert annual rate to monthly rate"
      ],
      "execution_count": 26,
      "outputs": [
        {
          "output_type": "execute_result",
          "data": {
            "text/plain": [
              "0.0040741237836483535"
            ]
          },
          "metadata": {
            "tags": []
          },
          "execution_count": 26
        }
      ]
    },
    {
      "cell_type": "code",
      "metadata": {
        "id": "9AVzhfEJe2qv",
        "colab_type": "code",
        "colab": {
          "base_uri": "https://localhost:8080/",
          "height": 34
        },
        "outputId": "203cd513-c682-497a-92f2-344fb0f7f1a7"
      },
      "source": [
        "monthly_rate(0.06)"
      ],
      "execution_count": 27,
      "outputs": [
        {
          "output_type": "execute_result",
          "data": {
            "text/plain": [
              "0.004867550565343048"
            ]
          },
          "metadata": {
            "tags": []
          },
          "execution_count": 27
        }
      ]
    },
    {
      "cell_type": "code",
      "metadata": {
        "id": "yWmyE6ESe7pX",
        "colab_type": "code",
        "colab": {
          "base_uri": "https://localhost:8080/",
          "height": 34
        },
        "outputId": "273a885b-0c58-486c-8bfc-b61913af167c"
      },
      "source": [
        "monthly_rate(0.09)"
      ],
      "execution_count": 28,
      "outputs": [
        {
          "output_type": "execute_result",
          "data": {
            "text/plain": [
              "0.007207323316136716"
            ]
          },
          "metadata": {
            "tags": []
          },
          "execution_count": 28
        }
      ]
    },
    {
      "cell_type": "markdown",
      "metadata": {
        "id": "XeKktkVXb-Q2",
        "colab_type": "text"
      },
      "source": [
        ""
      ]
    },
    {
      "cell_type": "code",
      "metadata": {
        "id": "fa6ockjyZVWx",
        "colab_type": "code",
        "colab": {
          "base_uri": "https://localhost:8080/",
          "height": 34
        },
        "outputId": "d22c2f57-779e-4223-e324-7564d6940114"
      },
      "source": [
        "amor_payment = lambda P, monthly_rate, n: round((P*monthly_rate)/(1-(1+monthly_rate)**(-n)), 2)\n",
        "amor_payment(100000, monthly_rate(0.05), 12) # get monthly loan payment"
      ],
      "execution_count": 29,
      "outputs": [
        {
          "output_type": "execute_result",
          "data": {
            "text/plain": [
              "8555.66"
            ]
          },
          "metadata": {
            "tags": []
          },
          "execution_count": 29
        }
      ]
    },
    {
      "cell_type": "code",
      "metadata": {
        "id": "-JlR5ujDc6AP",
        "colab_type": "code",
        "colab": {
          "base_uri": "https://localhost:8080/",
          "height": 34
        },
        "outputId": "6b35639f-5b76-48bc-a4a5-e7677bfa412e"
      },
      "source": [
        "amor_payment(250000, monthly_rate(0.06), 32)"
      ],
      "execution_count": 30,
      "outputs": [
        {
          "output_type": "execute_result",
          "data": {
            "text/plain": [
              "8455.69"
            ]
          },
          "metadata": {
            "tags": []
          },
          "execution_count": 30
        }
      ]
    },
    {
      "cell_type": "code",
      "metadata": {
        "id": "mYgjlCpAfA7y",
        "colab_type": "code",
        "colab": {
          "base_uri": "https://localhost:8080/",
          "height": 34
        },
        "outputId": "06212596-8bd2-4c19-908b-8972276b58f3"
      },
      "source": [
        "amor_payment(122000, monthly_rate(0.09), 14)"
      ],
      "execution_count": 31,
      "outputs": [
        {
          "output_type": "execute_result",
          "data": {
            "text/plain": [
              "9192.66"
            ]
          },
          "metadata": {
            "tags": []
          },
          "execution_count": 31
        }
      ]
    },
    {
      "cell_type": "code",
      "metadata": {
        "id": "cDHUqea-aTNU",
        "colab_type": "code",
        "colab": {}
      },
      "source": [
        "# def statement with docstring and test function\n",
        "def monthly_rate(i):\n",
        "    \"\"\"\n",
        "    Converts annual interest rate to monthly interest rate\n",
        "\n",
        "    Args:\n",
        "        i = annual interest rate\n",
        "\n",
        "    Returns:\n",
        "        Returns a float number that represents the converted monthly interest rate\n",
        "    \"\"\"\n",
        "    output = float((1 + i)**(1/12) - 1)\n",
        "    return output\n",
        "\n",
        "def test_monthly_rate():\n",
        "    assert monthly_rate(0.05) == 0.0040741237836483535\n",
        "    assert monthly_rate(0.06) == 0.004867550565343048\n",
        "    assert monthly_rate(0.09) == 0.007207323316136716\n",
        "test_monthly_rate()"
      ],
      "execution_count": 32,
      "outputs": []
    },
    {
      "cell_type": "code",
      "metadata": {
        "id": "ArLHIFt3dwZj",
        "colab_type": "code",
        "colab": {}
      },
      "source": [
        "def amor_payment(P, monthly_rate, n):\n",
        "    \"\"\"\n",
        "    Calculates the amortized loan payment\n",
        "\n",
        "    Args: \n",
        "        P = the amount borrowed\n",
        "        monthly_rate = the converted annual interest rate\n",
        "        n = number of payments\n",
        "\n",
        "    Returns:\n",
        "        Returns the amortized loan payment made on a monthly basis\n",
        "    \"\"\"\n",
        "    output = round((P*monthly_rate)/(1-(1+monthly_rate)**(-n)), 2)\n",
        "    return output\n",
        "\n",
        "def test_amor_payment():\n",
        "    assert amor_payment(100000, monthly_rate(0.05), 12) == 8555.66\n",
        "    assert amor_payment(250000, monthly_rate(0.06), 32) == 8455.69\n",
        "    assert amor_payment(122000, monthly_rate(0.09), 14) == 9192.66\n",
        "test_amor_payment()"
      ],
      "execution_count": 33,
      "outputs": []
    },
    {
      "cell_type": "markdown",
      "metadata": {
        "id": "lmSs6qiNuvDW",
        "colab_type": "text"
      },
      "source": [
        "#### Problem 4 -- Apply the process to create a remaining balance function"
      ]
    },
    {
      "cell_type": "code",
      "metadata": {
        "id": "DrcdhiyquvDX",
        "colab_type": "code",
        "colab": {
          "base_uri": "https://localhost:8080/",
          "height": 34
        },
        "outputId": "b4d03ec1-7f0d-413a-df5f-b207fdc6fc9a"
      },
      "source": [
        "R = amor_payment(122000, monthly_rate(0.09), 14)\n",
        "\n",
        "R\n",
        "\n"
      ],
      "execution_count": 68,
      "outputs": [
        {
          "output_type": "execute_result",
          "data": {
            "text/plain": [
              "9192.66"
            ]
          },
          "metadata": {
            "tags": []
          },
          "execution_count": 68
        }
      ]
    },
    {
      "cell_type": "code",
      "metadata": {
        "id": "CFrviF7uBFGH",
        "colab_type": "code",
        "colab": {
          "base_uri": "https://localhost:8080/",
          "height": 34
        },
        "outputId": "96dbd1e4-ff8d-43b4-aca0-74fb2c035cae"
      },
      "source": [
        "monthly_rate(0.06)"
      ],
      "execution_count": 58,
      "outputs": [
        {
          "output_type": "execute_result",
          "data": {
            "text/plain": [
              "0.004867550565343048"
            ]
          },
          "metadata": {
            "tags": []
          },
          "execution_count": 58
        }
      ]
    }
  ]
}