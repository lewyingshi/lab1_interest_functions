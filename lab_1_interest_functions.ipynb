{
  "nbformat": 4,
  "nbformat_minor": 0,
  "metadata": {
    "kernelspec": {
      "display_name": "Python 3",
      "language": "python",
      "name": "python3"
    },
    "language_info": {
      "codemirror_mode": {
        "name": "ipython",
        "version": 3
      },
      "file_extension": ".py",
      "mimetype": "text/x-python",
      "name": "python",
      "nbconvert_exporter": "python",
      "pygments_lexer": "ipython3",
      "version": "3.7.2"
    },
    "colab": {
      "name": "lab_1_interest_functions.ipynb",
      "provenance": [],
      "include_colab_link": true
    }
  },
  "cells": [
    {
      "cell_type": "markdown",
      "metadata": {
        "id": "view-in-github",
        "colab_type": "text"
      },
      "source": [
        "<a href=\"https://colab.research.google.com/github/lewyingshi/lab1_interest_functions/blob/master/lab_1_interest_functions.ipynb\" target=\"_parent\"><img src=\"https://colab.research.google.com/assets/colab-badge.svg\" alt=\"Open In Colab\"/></a>"
      ]
    },
    {
      "cell_type": "markdown",
      "metadata": {
        "id": "mGrxF88GuvC8",
        "colab_type": "text"
      },
      "source": [
        "## Lab 1 - Compound Interest Functions\n",
        "\n",
        "Below you will find a table of important formulae related to compound interest.  \n",
        "\n",
        "<img src=\"https://www.dummies.com/wp-content/uploads/251689.image0.jpg\" alt=\"image0.jpg\" width=\"400\" height=\"319\">\n",
        "\n",
        "In this lab, you will create functions for each of these using (and documenting) the following workflow.\n",
        "\n",
        "1. Work out the correct answer for a few examples. *Hint* Search for e.g. \"worked out compound interest examples\" on the web.\n",
        "2. Write a `lambda` function and test this function on your test cases.\n",
        "3. Convert the `lambda` function to a `def` statement with an informative doc string that follows the [Google formating rules](https://google.github.io/styleguide/pyguide.html#383-functions-and-methods).\n",
        "4. Write an automated test function (using your previous examples) that will test your `def` statement function each time the code is executed."
      ]
    },
    {
      "cell_type": "markdown",
      "metadata": {
        "id": "bjIbFm9LuvC9",
        "colab_type": "text"
      },
      "source": [
        "#### Problem 1 -- Apply the process to create a simple interest functions."
      ]
    },
    {
      "cell_type": "code",
      "metadata": {
        "id": "rzJ2E8LFuvC_",
        "colab_type": "code",
        "colab": {
          "base_uri": "https://localhost:8080/",
          "height": 34
        },
        "outputId": "e564b641-0761-4573-e552-78c30df8495d"
      },
      "source": [
        "P = 5000\n",
        "r = 0.045\n",
        "t = 3 \n",
        "P*r*t"
      ],
      "execution_count": 8,
      "outputs": [
        {
          "output_type": "execute_result",
          "data": {
            "text/plain": [
              "675.0"
            ]
          },
          "metadata": {
            "tags": []
          },
          "execution_count": 8
        }
      ]
    },
    {
      "cell_type": "code",
      "metadata": {
        "id": "7lXbyH2_M0N7",
        "colab_type": "code",
        "colab": {}
      },
      "source": [
        "P = 5000\n",
        "r = 0.045\n",
        "t = 3 \n",
        "P*r*t"
      ],
      "execution_count": null,
      "outputs": []
    },
    {
      "cell_type": "code",
      "metadata": {
        "id": "VRBEWmap1q-G",
        "colab_type": "code",
        "colab": {
          "base_uri": "https://localhost:8080/",
          "height": 34
        },
        "outputId": "c392f66c-0f41-4322-e0b5-baa31864de51"
      },
      "source": [
        "simple_interest = lambda P, r, t: P*r*t\n",
        "simple_interest(5000, 0.045, 3)"
      ],
      "execution_count": 10,
      "outputs": [
        {
          "output_type": "execute_result",
          "data": {
            "text/plain": [
              "675.0"
            ]
          },
          "metadata": {
            "tags": []
          },
          "execution_count": 10
        }
      ]
    },
    {
      "cell_type": "code",
      "metadata": {
        "id": "9zxkzVlZ2GQ3",
        "colab_type": "code",
        "colab": {
          "base_uri": "https://localhost:8080/",
          "height": 34
        },
        "outputId": "b9ae8694-2de5-4999-962a-22af3048e949"
      },
      "source": [
        "simple_interest(1000, 0.095, 5)"
      ],
      "execution_count": 11,
      "outputs": [
        {
          "output_type": "execute_result",
          "data": {
            "text/plain": [
              "475.0"
            ]
          },
          "metadata": {
            "tags": []
          },
          "execution_count": 11
        }
      ]
    },
    {
      "cell_type": "code",
      "metadata": {
        "id": "REfVHg-G20PJ",
        "colab_type": "code",
        "colab": {
          "base_uri": "https://localhost:8080/",
          "height": 34
        },
        "outputId": "a9930cad-c240-4bb7-adb1-1e9495fd1b62"
      },
      "source": [
        "simple_interest(6000, 0.05, 2)"
      ],
      "execution_count": 16,
      "outputs": [
        {
          "output_type": "execute_result",
          "data": {
            "text/plain": [
              "600.0"
            ]
          },
          "metadata": {
            "tags": []
          },
          "execution_count": 16
        }
      ]
    },
    {
      "cell_type": "code",
      "metadata": {
        "id": "wgUxVmXM6Ng-",
        "colab_type": "code",
        "colab": {}
      },
      "source": [
        "def simple_interest(P, r, t): \n",
        "    output = P*r*t\n",
        "    return output"
      ],
      "execution_count": 31,
      "outputs": []
    },
    {
      "cell_type": "code",
      "metadata": {
        "id": "PmW8sRyL6VD1",
        "colab_type": "code",
        "colab": {
          "base_uri": "https://localhost:8080/",
          "height": 34
        },
        "outputId": "a0535ffd-268f-48c7-b251-94c55701ff03"
      },
      "source": [
        "simple_interest(6000, 0.05, 2)"
      ],
      "execution_count": 32,
      "outputs": [
        {
          "output_type": "execute_result",
          "data": {
            "text/plain": [
              "600.0"
            ]
          },
          "metadata": {
            "tags": []
          },
          "execution_count": 32
        }
      ]
    },
    {
      "cell_type": "code",
      "metadata": {
        "id": "cfJwIkvJzkpo",
        "colab_type": "code",
        "colab": {}
      },
      "source": [
        "def simple_interest(P, r, t):\n",
        "    \"\"\"\n",
        "    Computes simple interest \n",
        "\n",
        "    Args:\n",
        "        P = the principle (initial value) is the amount of money deposited or borrowed\n",
        "        r = interest rate is a percent of the principal earned or paid\n",
        "        t = time in years is the length of time the money is deposited or borrowed\n",
        "    \n",
        "    Returns:\n",
        "        Returns the amount needed to pay back\n",
        "    \"\"\"\n",
        "    output = P*r*t\n",
        "    return output\n",
        "\n",
        "def test_simple_interest():\n",
        "    assert simple_interest(5000, 0.045, 3) == 675\n",
        "    assert simple_interest(6000, 0.05, 2) == 600\n",
        "    assert simple_interest(1000, 0.095, 5) == 475\n",
        "test_simple_interest()"
      ],
      "execution_count": 33,
      "outputs": []
    },
    {
      "cell_type": "markdown",
      "metadata": {
        "id": "y4w8uZlQuvDC",
        "colab_type": "text"
      },
      "source": [
        "#### Problem 2 -- Apply the process to create a compound interest functions."
      ]
    },
    {
      "cell_type": "code",
      "metadata": {
        "id": "xUMmpN7YuvDD",
        "colab_type": "code",
        "colab": {
          "base_uri": "https://localhost:8080/",
          "height": 34
        },
        "outputId": "42797442-13fc-4f00-eaa1-8d4989dc147b"
      },
      "source": [
        "P = 1000\n",
        "r = 0.05\n",
        "n = 4\n",
        "t = 5\n",
        "\n",
        "P * (1 + r/n)**n*t"
      ],
      "execution_count": 27,
      "outputs": [
        {
          "output_type": "execute_result",
          "data": {
            "text/plain": [
              "5254.726684570311"
            ]
          },
          "metadata": {
            "tags": []
          },
          "execution_count": 27
        }
      ]
    },
    {
      "cell_type": "code",
      "metadata": {
        "id": "wP0KeP7q5OU7",
        "colab_type": "code",
        "colab": {
          "base_uri": "https://localhost:8080/",
          "height": 34
        },
        "outputId": "2df63bd0-dfa1-4b80-b1d0-93057d236d6b"
      },
      "source": [
        "compound_interest = lambda P, r, n, t: round(P * (1 + r/n)**n*t, 2)\n",
        "compound_interest(1000, 0.05, 4, 5)"
      ],
      "execution_count": 40,
      "outputs": [
        {
          "output_type": "execute_result",
          "data": {
            "text/plain": [
              "5254.73"
            ]
          },
          "metadata": {
            "tags": []
          },
          "execution_count": 40
        }
      ]
    },
    {
      "cell_type": "code",
      "metadata": {
        "id": "0HqWadJv5tlh",
        "colab_type": "code",
        "colab": {
          "base_uri": "https://localhost:8080/",
          "height": 34
        },
        "outputId": "4f76a00f-d55a-40df-f44c-15019ef0cf59"
      },
      "source": [
        "compound_interest(5000, 0.02, 12, 3)"
      ],
      "execution_count": 41,
      "outputs": [
        {
          "output_type": "execute_result",
          "data": {
            "text/plain": [
              "15302.77"
            ]
          },
          "metadata": {
            "tags": []
          },
          "execution_count": 41
        }
      ]
    },
    {
      "cell_type": "code",
      "metadata": {
        "id": "TowuIJg86kKV",
        "colab_type": "code",
        "colab": {
          "base_uri": "https://localhost:8080/",
          "height": 34
        },
        "outputId": "2bbc0d8a-10c2-478c-ee84-65530472d920"
      },
      "source": [
        "def compound_interest(P, r, n, t):\n",
        "    output = round(P * (1 + r/n)**n*t, 2)\n",
        "    return output\n",
        "\n",
        "compound_interest(2000, 0.07, 52, 2)"
      ],
      "execution_count": 43,
      "outputs": [
        {
          "output_type": "execute_result",
          "data": {
            "text/plain": [
              "4289.83"
            ]
          },
          "metadata": {
            "tags": []
          },
          "execution_count": 43
        }
      ]
    },
    {
      "cell_type": "code",
      "metadata": {
        "id": "CZ7RupsV65Fh",
        "colab_type": "code",
        "colab": {}
      },
      "source": [
        "def compound_interest(P, r, n, t):\n",
        "    \"\"\"\n",
        "    Computes compound interest\n",
        "\n",
        "    Args:\n",
        "        P = the principle (initial value) is the amount of money deposited or borrowed\n",
        "        r = interest rate is a percent of the principal earned or paid\n",
        "        n = number of compounding period\n",
        "        t = time in years is the length of time the money is deposited or borrowed\n",
        "\n",
        "    Returns:\n",
        "        Returns the amount after incorporating compounded time period and interest rate.\n",
        "    \"\"\"\n",
        "    output = round(P * (1 + r/n)**n*t, 2)\n",
        "    return output\n",
        "\n",
        "def test_compound_interest():\n",
        "    assert compound_interest(5000, 0.02, 12, 3) == 15302.77\n",
        "    assert compound_interest(2000, 0.07, 52, 2) == 4289.83\n",
        "test_compound_interest()"
      ],
      "execution_count": 48,
      "outputs": []
    },
    {
      "cell_type": "markdown",
      "metadata": {
        "id": "X8mk1d2buvDH",
        "colab_type": "text"
      },
      "source": [
        "#### Problem 3 -- Apply the process to create a amortized loan payment function."
      ]
    },
    {
      "cell_type": "code",
      "metadata": {
        "id": "NhLHrnqfuvDR",
        "colab_type": "code",
        "colab": {}
      },
      "source": [
        "\"Your code here, insert more cells as needed\""
      ],
      "execution_count": null,
      "outputs": []
    },
    {
      "cell_type": "markdown",
      "metadata": {
        "id": "lmSs6qiNuvDW",
        "colab_type": "text"
      },
      "source": [
        "#### Problem 4 -- Apply the process to create a remaining balance function"
      ]
    },
    {
      "cell_type": "code",
      "metadata": {
        "id": "DrcdhiyquvDX",
        "colab_type": "code",
        "colab": {}
      },
      "source": [
        "\"Your code here, insert more cells as needed\""
      ],
      "execution_count": null,
      "outputs": []
    }
  ]
}