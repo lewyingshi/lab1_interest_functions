{
  "nbformat": 4,
  "nbformat_minor": 0,
  "metadata": {
    "kernelspec": {
      "display_name": "Python 3",
      "language": "python",
      "name": "python3"
    },
    "language_info": {
      "codemirror_mode": {
        "name": "ipython",
        "version": 3
      },
      "file_extension": ".py",
      "mimetype": "text/x-python",
      "name": "python",
      "nbconvert_exporter": "python",
      "pygments_lexer": "ipython3",
      "version": "3.7.2"
    },
    "colab": {
      "name": "lab_1_interest_functions.ipynb",
      "provenance": [],
      "include_colab_link": true
    }
  },
  "cells": [
    {
      "cell_type": "markdown",
      "metadata": {
        "id": "view-in-github",
        "colab_type": "text"
      },
      "source": [
        "<a href=\"https://colab.research.google.com/github/lewyingshi/lab1_interest_functions/blob/master/lab_1_interest_functions.ipynb\" target=\"_parent\"><img src=\"https://colab.research.google.com/assets/colab-badge.svg\" alt=\"Open In Colab\"/></a>"
      ]
    },
    {
      "cell_type": "markdown",
      "metadata": {
        "id": "mGrxF88GuvC8",
        "colab_type": "text"
      },
      "source": [
        "## Lab 1 - Compound Interest Functions\n",
        "\n",
        "Below you will find a table of important formulae related to compound interest.  \n",
        "\n",
        "<img src=\"https://www.dummies.com/wp-content/uploads/251689.image0.jpg\" alt=\"image0.jpg\" width=\"400\" height=\"319\">\n",
        "\n",
        "In this lab, you will create functions for each of these using (and documenting) the following workflow.\n",
        "\n",
        "1. Work out the correct answer for a few examples. *Hint* Search for e.g. \"worked out compound interest examples\" on the web.\n",
        "2. Write a `lambda` function and test this function on your test cases.\n",
        "3. Convert the `lambda` function to a `def` statement with an informative doc string that follows the [Google formating rules](https://google.github.io/styleguide/pyguide.html#383-functions-and-methods).\n",
        "4. Write an automated test function (using your previous examples) that will test your `def` statement function each time the code is executed."
      ]
    },
    {
      "cell_type": "markdown",
      "metadata": {
        "id": "bjIbFm9LuvC9",
        "colab_type": "text"
      },
      "source": [
        "#### Problem 1 -- Apply the process to create a simple interest functions."
      ]
    },
    {
      "cell_type": "code",
      "metadata": {
        "id": "rzJ2E8LFuvC_",
        "colab_type": "code",
        "colab": {
          "base_uri": "https://localhost:8080/",
          "height": 34
        },
        "outputId": "e564b641-0761-4573-e552-78c30df8495d"
      },
      "source": [
        "P = 5000\n",
        "r = 0.045\n",
        "t = 3 \n",
        "P*r*t"
      ],
      "execution_count": 8,
      "outputs": [
        {
          "output_type": "execute_result",
          "data": {
            "text/plain": [
              "675.0"
            ]
          },
          "metadata": {
            "tags": []
          },
          "execution_count": 8
        }
      ]
    },
    {
      "cell_type": "code",
      "metadata": {
        "id": "7lXbyH2_M0N7",
        "colab_type": "code",
        "colab": {
          "base_uri": "https://localhost:8080/",
          "height": 34
        },
        "outputId": "d77793c6-0f24-4534-d036-c0c58611299a"
      },
      "source": [
        "P = 4000\n",
        "r = 0.045\n",
        "t = 3 \n",
        "P*r*t"
      ],
      "execution_count": 49,
      "outputs": [
        {
          "output_type": "execute_result",
          "data": {
            "text/plain": [
              "540.0"
            ]
          },
          "metadata": {
            "tags": []
          },
          "execution_count": 49
        }
      ]
    },
    {
      "cell_type": "code",
      "metadata": {
        "id": "9gq4LCiZM_SZ",
        "colab_type": "code",
        "colab": {
          "base_uri": "https://localhost:8080/",
          "height": 34
        },
        "outputId": "b7faf57e-bdcc-410b-e7d4-f6d9d9d7c08c"
      },
      "source": [
        "P = 3000\n",
        "r = 0.12\n",
        "t = 2\n",
        "P*r*t"
      ],
      "execution_count": 51,
      "outputs": [
        {
          "output_type": "execute_result",
          "data": {
            "text/plain": [
              "720.0"
            ]
          },
          "metadata": {
            "tags": []
          },
          "execution_count": 51
        }
      ]
    },
    {
      "cell_type": "code",
      "metadata": {
        "id": "VRBEWmap1q-G",
        "colab_type": "code",
        "colab": {
          "base_uri": "https://localhost:8080/",
          "height": 34
        },
        "outputId": "60341852-63ae-4f37-8861-32afb4b329bd"
      },
      "source": [
        "# lambda expression\n",
        "simple_interest = lambda P, r, t: round(P*r*t)\n",
        "simple_interest(5000, 0.045, 3)"
      ],
      "execution_count": 55,
      "outputs": [
        {
          "output_type": "execute_result",
          "data": {
            "text/plain": [
              "675"
            ]
          },
          "metadata": {
            "tags": []
          },
          "execution_count": 55
        }
      ]
    },
    {
      "cell_type": "code",
      "metadata": {
        "id": "9zxkzVlZ2GQ3",
        "colab_type": "code",
        "colab": {
          "base_uri": "https://localhost:8080/",
          "height": 34
        },
        "outputId": "3fa2d918-6a84-4ac0-ff7b-7cfa9774e94f"
      },
      "source": [
        "simple_interest(4000, 0.045, 3)"
      ],
      "execution_count": 198,
      "outputs": [
        {
          "output_type": "execute_result",
          "data": {
            "text/plain": [
              "540"
            ]
          },
          "metadata": {
            "tags": []
          },
          "execution_count": 198
        }
      ]
    },
    {
      "cell_type": "code",
      "metadata": {
        "id": "REfVHg-G20PJ",
        "colab_type": "code",
        "colab": {
          "base_uri": "https://localhost:8080/",
          "height": 34
        },
        "outputId": "16a4de98-cd4f-40f5-bada-d33db3d39776"
      },
      "source": [
        "simple_interest(3000, 0.12, 2)"
      ],
      "execution_count": 199,
      "outputs": [
        {
          "output_type": "execute_result",
          "data": {
            "text/plain": [
              "720"
            ]
          },
          "metadata": {
            "tags": []
          },
          "execution_count": 199
        }
      ]
    },
    {
      "cell_type": "code",
      "metadata": {
        "id": "cfJwIkvJzkpo",
        "colab_type": "code",
        "colab": {}
      },
      "source": [
        "# def statement with docsting and test function\n",
        "def simple_interest(P, r, t):\n",
        "    \"\"\"\n",
        "    Computes simple interest \n",
        "\n",
        "    Args:\n",
        "        P = the principle (initial value) is the amount of money deposited or borrowed\n",
        "        r = interest rate is a percent of the principal earned or paid\n",
        "        t = time in years is the length of time the money is deposited or borrowed\n",
        "    \n",
        "    Returns:\n",
        "        Returns the amount needed to pay back\n",
        "    \"\"\"\n",
        "    output = round(P*r*t)\n",
        "    return output\n",
        "\n",
        "def test_simple_interest():\n",
        "    assert simple_interest(5000, 0.045, 3) == 675\n",
        "    assert simple_interest(6000, 0.05, 2) == 600\n",
        "    assert simple_interest(1000, 0.095, 5) == 475\n",
        "test_simple_interest()"
      ],
      "execution_count": 200,
      "outputs": []
    },
    {
      "cell_type": "markdown",
      "metadata": {
        "id": "y4w8uZlQuvDC",
        "colab_type": "text"
      },
      "source": [
        "#### Problem 2 -- Apply the process to create a compound interest functions."
      ]
    },
    {
      "cell_type": "code",
      "metadata": {
        "id": "xUMmpN7YuvDD",
        "colab_type": "code",
        "colab": {
          "base_uri": "https://localhost:8080/",
          "height": 34
        },
        "outputId": "01c48c9e-df59-497f-c90f-7b66f80feb36"
      },
      "source": [
        "P = 1000\n",
        "r = 0.05\n",
        "n = 4\n",
        "t = 5\n",
        "\n",
        "P * (1 + r/n)**n*t"
      ],
      "execution_count": 68,
      "outputs": [
        {
          "output_type": "execute_result",
          "data": {
            "text/plain": [
              "5254.726684570311"
            ]
          },
          "metadata": {
            "tags": []
          },
          "execution_count": 68
        }
      ]
    },
    {
      "cell_type": "code",
      "metadata": {
        "id": "jlO6dKmANiw-",
        "colab_type": "code",
        "colab": {
          "base_uri": "https://localhost:8080/",
          "height": 34
        },
        "outputId": "b50d2b00-76b9-4c18-b20c-a5c4247ec753"
      },
      "source": [
        "P = 5000\n",
        "r = 0.03\n",
        "n = 12\n",
        "t = 5\n",
        "\n",
        "P * (1 + r/n)**n*t"
      ],
      "execution_count": 69,
      "outputs": [
        {
          "output_type": "execute_result",
          "data": {
            "text/plain": [
              "25760.398922837667"
            ]
          },
          "metadata": {
            "tags": []
          },
          "execution_count": 69
        }
      ]
    },
    {
      "cell_type": "code",
      "metadata": {
        "id": "PYizjd_HhgKZ",
        "colab_type": "code",
        "colab": {
          "base_uri": "https://localhost:8080/",
          "height": 34
        },
        "outputId": "fbf90a29-d5ee-457d-ec00-e241f98d67f2"
      },
      "source": [
        "P = 12000\n",
        "r = 0.10\n",
        "n = 52\n",
        "t = 4\n",
        "\n",
        "P * (1 + r/n)**n*t"
      ],
      "execution_count": 207,
      "outputs": [
        {
          "output_type": "execute_result",
          "data": {
            "text/plain": [
              "53043.110053428776"
            ]
          },
          "metadata": {
            "tags": []
          },
          "execution_count": 207
        }
      ]
    },
    {
      "cell_type": "code",
      "metadata": {
        "id": "wP0KeP7q5OU7",
        "colab_type": "code",
        "colab": {
          "base_uri": "https://localhost:8080/",
          "height": 34
        },
        "outputId": "9352e2b7-3379-4ce4-aff5-e2d30e0fa4a5"
      },
      "source": [
        "# lambda expression\n",
        "compound_interest = lambda P, r, n, t: round(P * (1 + r/n)**n*t, 2)\n",
        "compound_interest(1000, 0.05, 4, 5)"
      ],
      "execution_count": 202,
      "outputs": [
        {
          "output_type": "execute_result",
          "data": {
            "text/plain": [
              "5254.73"
            ]
          },
          "metadata": {
            "tags": []
          },
          "execution_count": 202
        }
      ]
    },
    {
      "cell_type": "code",
      "metadata": {
        "id": "0HqWadJv5tlh",
        "colab_type": "code",
        "colab": {
          "base_uri": "https://localhost:8080/",
          "height": 34
        },
        "outputId": "35ef97fb-e933-4e38-84ee-df082c15adc9"
      },
      "source": [
        "compound_interest(5000, 0.03, 12, 5)"
      ],
      "execution_count": 203,
      "outputs": [
        {
          "output_type": "execute_result",
          "data": {
            "text/plain": [
              "25760.4"
            ]
          },
          "metadata": {
            "tags": []
          },
          "execution_count": 203
        }
      ]
    },
    {
      "cell_type": "code",
      "metadata": {
        "id": "q_gOT6schtTc",
        "colab_type": "code",
        "colab": {
          "base_uri": "https://localhost:8080/",
          "height": 34
        },
        "outputId": "0a2c7b02-e721-4692-96fd-2b507e8e7572"
      },
      "source": [
        "compound_interest(12000, 0.10, 52, 4)"
      ],
      "execution_count": 208,
      "outputs": [
        {
          "output_type": "execute_result",
          "data": {
            "text/plain": [
              "53043.11"
            ]
          },
          "metadata": {
            "tags": []
          },
          "execution_count": 208
        }
      ]
    },
    {
      "cell_type": "code",
      "metadata": {
        "id": "CZ7RupsV65Fh",
        "colab_type": "code",
        "colab": {}
      },
      "source": [
        "# def statement with docsting and test function\n",
        "def compound_interest(P, r, n, t):\n",
        "    \"\"\"\n",
        "    Computes compound interest\n",
        "\n",
        "    Args:\n",
        "        P = the principle (initial value) is the amount of money deposited or borrowed\n",
        "        r = interest rate is a percent of the principal earned or paid\n",
        "        n = number of compounding period\n",
        "        t = time in years is the length of time the money is deposited or borrowed\n",
        "\n",
        "    Returns:\n",
        "        Returns the amount after incorporating compounded time period and interest rate.\n",
        "    \"\"\"\n",
        "    output = round(P * (1 + r/n)**n*t, 2)\n",
        "    return output\n",
        "\n",
        "def test_compound_interest():\n",
        "    assert compound_interest(1000, 0.05, 4, 5) == 5254.73\n",
        "    assert compound_interest(5000, 0.03, 12, 5) == 25760.4\n",
        "    assert compound_interest(12000, 0.10, 52, 4) == 53043.11\n",
        "test_compound_interest()"
      ],
      "execution_count": 211,
      "outputs": []
    },
    {
      "cell_type": "markdown",
      "metadata": {
        "id": "X8mk1d2buvDH",
        "colab_type": "text"
      },
      "source": [
        "#### Problem 3 -- Apply the process to create a amortized loan payment function."
      ]
    },
    {
      "cell_type": "code",
      "metadata": {
        "id": "NhLHrnqfuvDR",
        "colab_type": "code",
        "colab": {
          "base_uri": "https://localhost:8080/",
          "height": 34
        },
        "outputId": "f1d952a9-096e-4b7c-fedb-36e2ee75cf74"
      },
      "source": [
        "P = 100000\n",
        "i = 0.05 # annual rate\n",
        "n = 12\n",
        "\n",
        "monthly_rate = (1 + i)**(1/12) - 1\n",
        "monthly_rate # determine monthly interest rates\n",
        "\n",
        "(P*monthly_rate)/(1-(1+monthly_rate)**(-n)) # determine monthly loan payment"
      ],
      "execution_count": 167,
      "outputs": [
        {
          "output_type": "execute_result",
          "data": {
            "text/plain": [
              "8555.659945661433"
            ]
          },
          "metadata": {
            "tags": []
          },
          "execution_count": 167
        }
      ]
    },
    {
      "cell_type": "code",
      "metadata": {
        "id": "l7MxRvHeThMr",
        "colab_type": "code",
        "colab": {
          "base_uri": "https://localhost:8080/",
          "height": 34
        },
        "outputId": "95b78b22-a4db-43d3-a01a-248df07d3ca8"
      },
      "source": [
        "P = 250000\n",
        "i = 0.06 # annual rate\n",
        "n = 32\n",
        "\n",
        "monthly_rate = (1 + i)**(1/12) - 1\n",
        "monthly_rate # determine monthly interest rates\n",
        "\n",
        "(P*monthly_rate)/(1-(1+monthly_rate)**(-n)) # determine monthly loan payment"
      ],
      "execution_count": 141,
      "outputs": [
        {
          "output_type": "execute_result",
          "data": {
            "text/plain": [
              "8455.693012898997"
            ]
          },
          "metadata": {
            "tags": []
          },
          "execution_count": 141
        }
      ]
    },
    {
      "cell_type": "code",
      "metadata": {
        "id": "nIZtPK3ciPXA",
        "colab_type": "code",
        "colab": {
          "base_uri": "https://localhost:8080/",
          "height": 34
        },
        "outputId": "e4d92e90-ad32-405f-b556-3c08e4c664c6"
      },
      "source": [
        "P = 122000\n",
        "i = 0.09 # annual rate\n",
        "n = 14\n",
        "\n",
        "monthly_rate = (1 + i)**(1/12) - 1\n",
        "monthly_rate # determine monthly interest rates\n",
        "\n",
        "(P*monthly_rate)/(1-(1+monthly_rate)**(-n)) # determine monthly loan payment"
      ],
      "execution_count": 214,
      "outputs": [
        {
          "output_type": "execute_result",
          "data": {
            "text/plain": [
              "9192.664006889232"
            ]
          },
          "metadata": {
            "tags": []
          },
          "execution_count": 214
        }
      ]
    },
    {
      "cell_type": "code",
      "metadata": {
        "id": "-ZuXiS-gWPNG",
        "colab_type": "code",
        "colab": {
          "base_uri": "https://localhost:8080/",
          "height": 34
        },
        "outputId": "645214a7-28a3-46dd-837a-0229ecf471fb"
      },
      "source": [
        "# lambda expression(s)\n",
        "monthly_rate = lambda i: float((1 + i)**(1/12) - 1)\n",
        "monthly_rate(0.05) # convert annual rate to monthly rate"
      ],
      "execution_count": 221,
      "outputs": [
        {
          "output_type": "execute_result",
          "data": {
            "text/plain": [
              "0.0040741237836483535"
            ]
          },
          "metadata": {
            "tags": []
          },
          "execution_count": 221
        }
      ]
    },
    {
      "cell_type": "code",
      "metadata": {
        "id": "9AVzhfEJe2qv",
        "colab_type": "code",
        "colab": {
          "base_uri": "https://localhost:8080/",
          "height": 34
        },
        "outputId": "042f48bd-7c84-4018-ad65-16719811b60b"
      },
      "source": [
        "monthly_rate(0.06)"
      ],
      "execution_count": 216,
      "outputs": [
        {
          "output_type": "execute_result",
          "data": {
            "text/plain": [
              "0.004867550565343048"
            ]
          },
          "metadata": {
            "tags": []
          },
          "execution_count": 216
        }
      ]
    },
    {
      "cell_type": "code",
      "metadata": {
        "id": "yWmyE6ESe7pX",
        "colab_type": "code",
        "colab": {
          "base_uri": "https://localhost:8080/",
          "height": 34
        },
        "outputId": "dcff6357-94f8-4986-daf5-76e52ae10936"
      },
      "source": [
        "monthly_rate(0.09)"
      ],
      "execution_count": 217,
      "outputs": [
        {
          "output_type": "execute_result",
          "data": {
            "text/plain": [
              "0.007207323316136716"
            ]
          },
          "metadata": {
            "tags": []
          },
          "execution_count": 217
        }
      ]
    },
    {
      "cell_type": "markdown",
      "metadata": {
        "id": "XeKktkVXb-Q2",
        "colab_type": "text"
      },
      "source": [
        ""
      ]
    },
    {
      "cell_type": "code",
      "metadata": {
        "id": "fa6ockjyZVWx",
        "colab_type": "code",
        "colab": {
          "base_uri": "https://localhost:8080/",
          "height": 34
        },
        "outputId": "6e04578f-51dc-49ec-b9ef-94451130df70"
      },
      "source": [
        "amor_payment = lambda P, monthly_rate, n: round((P*monthly_rate)/(1-(1+monthly_rate)**(-n)), 2)\n",
        "amor_payment(100000, monthly_rate(0.05), 12) # get monthly loan payment"
      ],
      "execution_count": 218,
      "outputs": [
        {
          "output_type": "execute_result",
          "data": {
            "text/plain": [
              "8555.66"
            ]
          },
          "metadata": {
            "tags": []
          },
          "execution_count": 218
        }
      ]
    },
    {
      "cell_type": "code",
      "metadata": {
        "id": "-JlR5ujDc6AP",
        "colab_type": "code",
        "colab": {
          "base_uri": "https://localhost:8080/",
          "height": 34
        },
        "outputId": "7ff8d115-70be-4728-d03f-4373cba68c83"
      },
      "source": [
        "amor_payment(250000, monthly_rate(0.06), 32)"
      ],
      "execution_count": 219,
      "outputs": [
        {
          "output_type": "execute_result",
          "data": {
            "text/plain": [
              "8455.69"
            ]
          },
          "metadata": {
            "tags": []
          },
          "execution_count": 219
        }
      ]
    },
    {
      "cell_type": "code",
      "metadata": {
        "id": "mYgjlCpAfA7y",
        "colab_type": "code",
        "colab": {
          "base_uri": "https://localhost:8080/",
          "height": 34
        },
        "outputId": "86e46687-b415-46ba-8d86-61435dca2381"
      },
      "source": [
        "amor_payment(122000, monthly_rate(0.09), 14)"
      ],
      "execution_count": 220,
      "outputs": [
        {
          "output_type": "execute_result",
          "data": {
            "text/plain": [
              "9192.66"
            ]
          },
          "metadata": {
            "tags": []
          },
          "execution_count": 220
        }
      ]
    },
    {
      "cell_type": "code",
      "metadata": {
        "id": "cDHUqea-aTNU",
        "colab_type": "code",
        "colab": {}
      },
      "source": [
        "# def statement with docsting and test function\n",
        "def monthly_rate(i):\n",
        "    \"\"\"\n",
        "    Converts annual interest rate to a monthly interest rate\n",
        "\n",
        "    Args:\n",
        "        i = annual interest rate\n",
        "\n",
        "    Returns:\n",
        "        Returns a float number that represents the monthly interest rate\n",
        "    \"\"\"\n",
        "    output = float((1 + i)**(1/12) - 1)\n",
        "    return output\n",
        "\n",
        "def test_monthly_rate():\n",
        "    assert monthly_rate(0.05) == 0.0040741237836483535\n",
        "    assert monthly_rate(0.06) == 0.004867550565343048\n",
        "    assert monthly_rate(0.09) == 0.007207323316136716\n",
        "test_monthly_rate()"
      ],
      "execution_count": 223,
      "outputs": []
    },
    {
      "cell_type": "code",
      "metadata": {
        "id": "ArLHIFt3dwZj",
        "colab_type": "code",
        "colab": {}
      },
      "source": [
        "def amor_payment(P, monthly_rate, n):\n",
        "    \"\"\"\n",
        "    Calculates the amortized loan payment\n",
        "\n",
        "    Args: \n",
        "        P = the amount borrowed\n",
        "        monthly_rate = the converted annual interest rate\n",
        "        n = number of payments\n",
        "    \"\"\"\n",
        "    output = round((P*monthly_rate)/(1-(1+monthly_rate)**(-n)), 2)\n",
        "    return output\n",
        "\n",
        "def test_amor_payment():\n",
        "    assert amor_payment(100000, monthly_rate(0.05), 12) == 8555.66\n",
        "    assert amor_payment(250000, monthly_rate(0.06), 32) == 8455.69\n",
        "    assert amor_payment(122000, monthly_rate(0.09), 14) == 9192.66\n",
        "test_amor_payment()"
      ],
      "execution_count": 227,
      "outputs": []
    },
    {
      "cell_type": "markdown",
      "metadata": {
        "id": "lmSs6qiNuvDW",
        "colab_type": "text"
      },
      "source": [
        "#### Problem 4 -- Apply the process to create a remaining balance function"
      ]
    },
    {
      "cell_type": "code",
      "metadata": {
        "id": "DrcdhiyquvDX",
        "colab_type": "code",
        "colab": {}
      },
      "source": [
        "\"Your code here, insert more cells as needed\""
      ],
      "execution_count": null,
      "outputs": []
    }
  ]
}