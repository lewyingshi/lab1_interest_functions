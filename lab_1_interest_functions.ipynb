{
  "nbformat": 4,
  "nbformat_minor": 0,
  "metadata": {
    "kernelspec": {
      "display_name": "Python 3",
      "language": "python",
      "name": "python3"
    },
    "language_info": {
      "codemirror_mode": {
        "name": "ipython",
        "version": 3
      },
      "file_extension": ".py",
      "mimetype": "text/x-python",
      "name": "python",
      "nbconvert_exporter": "python",
      "pygments_lexer": "ipython3",
      "version": "3.7.2"
    },
    "colab": {
      "name": "lab_1_interest_functions.ipynb",
      "provenance": [],
      "include_colab_link": true
    }
  },
  "cells": [
    {
      "cell_type": "markdown",
      "metadata": {
        "id": "view-in-github",
        "colab_type": "text"
      },
      "source": [
        "<a href=\"https://colab.research.google.com/github/lewyingshi/lab1_interest_functions/blob/master/lab_1_interest_functions.ipynb\" target=\"_parent\"><img src=\"https://colab.research.google.com/assets/colab-badge.svg\" alt=\"Open In Colab\"/></a>"
      ]
    },
    {
      "cell_type": "markdown",
      "metadata": {
        "id": "mGrxF88GuvC8",
        "colab_type": "text"
      },
      "source": [
        "## Lab 1 - Compound Interest Functions\n",
        "\n",
        "Below you will find a table of important formulae related to compound interest.  \n",
        "\n",
        "<img src=\"https://www.dummies.com/wp-content/uploads/251689.image0.jpg\" alt=\"image0.jpg\" width=\"400\" height=\"319\">\n",
        "\n",
        "In this lab, you will create functions for each of these using (and documenting) the following workflow.\n",
        "\n",
        "1. Work out the correct answer for a few examples. *Hint* Search for e.g. \"worked out compound interest examples\" on the web.\n",
        "2. Write a `lambda` function and test this function on your test cases.\n",
        "3. Convert the `lambda` function to a `def` statement with an informative doc string that follows the [Google formating rules](https://google.github.io/styleguide/pyguide.html#383-functions-and-methods).\n",
        "4. Write an automated test function (using your previous examples) that will test your `def` statement function each time the code is executed."
      ]
    },
    {
      "cell_type": "markdown",
      "metadata": {
        "id": "bjIbFm9LuvC9",
        "colab_type": "text"
      },
      "source": [
        "#### Problem 1 -- Apply the process to create a simple interest functions."
      ]
    },
    {
      "cell_type": "code",
      "metadata": {
        "id": "rzJ2E8LFuvC_",
        "colab_type": "code",
        "colab": {
          "base_uri": "https://localhost:8080/",
          "height": 34
        },
        "outputId": "e564b641-0761-4573-e552-78c30df8495d"
      },
      "source": [
        "P = 5000\n",
        "r = 0.045\n",
        "t = 3 \n",
        "P*r*t"
      ],
      "execution_count": 8,
      "outputs": [
        {
          "output_type": "execute_result",
          "data": {
            "text/plain": [
              "675.0"
            ]
          },
          "metadata": {
            "tags": []
          },
          "execution_count": 8
        }
      ]
    },
    {
      "cell_type": "code",
      "metadata": {
        "id": "7lXbyH2_M0N7",
        "colab_type": "code",
        "colab": {
          "base_uri": "https://localhost:8080/",
          "height": 34
        },
        "outputId": "d77793c6-0f24-4534-d036-c0c58611299a"
      },
      "source": [
        "P = 4000\n",
        "r = 0.045\n",
        "t = 3 \n",
        "P*r*t"
      ],
      "execution_count": 49,
      "outputs": [
        {
          "output_type": "execute_result",
          "data": {
            "text/plain": [
              "540.0"
            ]
          },
          "metadata": {
            "tags": []
          },
          "execution_count": 49
        }
      ]
    },
    {
      "cell_type": "code",
      "metadata": {
        "id": "9gq4LCiZM_SZ",
        "colab_type": "code",
        "colab": {
          "base_uri": "https://localhost:8080/",
          "height": 34
        },
        "outputId": "b7faf57e-bdcc-410b-e7d4-f6d9d9d7c08c"
      },
      "source": [
        "P = 3000\n",
        "r = 0.12\n",
        "t = 2\n",
        "P*r*t"
      ],
      "execution_count": 51,
      "outputs": [
        {
          "output_type": "execute_result",
          "data": {
            "text/plain": [
              "720.0"
            ]
          },
          "metadata": {
            "tags": []
          },
          "execution_count": 51
        }
      ]
    },
    {
      "cell_type": "code",
      "metadata": {
        "id": "VRBEWmap1q-G",
        "colab_type": "code",
        "colab": {
          "base_uri": "https://localhost:8080/",
          "height": 34
        },
        "outputId": "60341852-63ae-4f37-8861-32afb4b329bd"
      },
      "source": [
        "# lambda expression\n",
        "simple_interest = lambda P, r, t: round(P*r*t)\n",
        "simple_interest(5000, 0.045, 3)"
      ],
      "execution_count": 55,
      "outputs": [
        {
          "output_type": "execute_result",
          "data": {
            "text/plain": [
              "675"
            ]
          },
          "metadata": {
            "tags": []
          },
          "execution_count": 55
        }
      ]
    },
    {
      "cell_type": "code",
      "metadata": {
        "id": "9zxkzVlZ2GQ3",
        "colab_type": "code",
        "colab": {
          "base_uri": "https://localhost:8080/",
          "height": 34
        },
        "outputId": "7d559fad-f99f-41b3-e867-2d1ce5189288"
      },
      "source": [
        "simple_interest(1000, 0.095, 5)"
      ],
      "execution_count": 56,
      "outputs": [
        {
          "output_type": "execute_result",
          "data": {
            "text/plain": [
              "475"
            ]
          },
          "metadata": {
            "tags": []
          },
          "execution_count": 56
        }
      ]
    },
    {
      "cell_type": "code",
      "metadata": {
        "id": "REfVHg-G20PJ",
        "colab_type": "code",
        "colab": {
          "base_uri": "https://localhost:8080/",
          "height": 34
        },
        "outputId": "2b88082b-b08b-4289-f7df-1c2b2cf4d830"
      },
      "source": [
        "simple_interest(6000, 0.05, 2)"
      ],
      "execution_count": 57,
      "outputs": [
        {
          "output_type": "execute_result",
          "data": {
            "text/plain": [
              "600"
            ]
          },
          "metadata": {
            "tags": []
          },
          "execution_count": 57
        }
      ]
    },
    {
      "cell_type": "code",
      "metadata": {
        "id": "cfJwIkvJzkpo",
        "colab_type": "code",
        "colab": {}
      },
      "source": [
        "# def statement with docsting and test function\n",
        "def simple_interest(P, r, t):\n",
        "    \"\"\"\n",
        "    Computes simple interest \n",
        "\n",
        "    Args:\n",
        "        P = the principle (initial value) is the amount of money deposited or borrowed\n",
        "        r = interest rate is a percent of the principal earned or paid\n",
        "        t = time in years is the length of time the money is deposited or borrowed\n",
        "    \n",
        "    Returns:\n",
        "        Returns the amount needed to pay back\n",
        "    \"\"\"\n",
        "    output = round(P*r*t)\n",
        "    return output\n",
        "\n",
        "def test_simple_interest():\n",
        "    assert simple_interest(5000, 0.045, 3) == 675\n",
        "    assert simple_interest(6000, 0.05, 2) == 600\n",
        "    assert simple_interest(1000, 0.095, 5) == 475\n",
        "test_simple_interest()"
      ],
      "execution_count": 67,
      "outputs": []
    },
    {
      "cell_type": "markdown",
      "metadata": {
        "id": "y4w8uZlQuvDC",
        "colab_type": "text"
      },
      "source": [
        "#### Problem 2 -- Apply the process to create a compound interest functions."
      ]
    },
    {
      "cell_type": "code",
      "metadata": {
        "id": "xUMmpN7YuvDD",
        "colab_type": "code",
        "colab": {
          "base_uri": "https://localhost:8080/",
          "height": 34
        },
        "outputId": "01c48c9e-df59-497f-c90f-7b66f80feb36"
      },
      "source": [
        "P = 1000\n",
        "r = 0.05\n",
        "n = 4\n",
        "t = 5\n",
        "\n",
        "P * (1 + r/n)**n*t"
      ],
      "execution_count": 68,
      "outputs": [
        {
          "output_type": "execute_result",
          "data": {
            "text/plain": [
              "5254.726684570311"
            ]
          },
          "metadata": {
            "tags": []
          },
          "execution_count": 68
        }
      ]
    },
    {
      "cell_type": "code",
      "metadata": {
        "id": "jlO6dKmANiw-",
        "colab_type": "code",
        "colab": {
          "base_uri": "https://localhost:8080/",
          "height": 34
        },
        "outputId": "b50d2b00-76b9-4c18-b20c-a5c4247ec753"
      },
      "source": [
        "P = 5000\n",
        "r = 0.03\n",
        "n = 12\n",
        "t = 5\n",
        "\n",
        "P * (1 + r/n)**n*t"
      ],
      "execution_count": 69,
      "outputs": [
        {
          "output_type": "execute_result",
          "data": {
            "text/plain": [
              "25760.398922837667"
            ]
          },
          "metadata": {
            "tags": []
          },
          "execution_count": 69
        }
      ]
    },
    {
      "cell_type": "code",
      "metadata": {
        "id": "wP0KeP7q5OU7",
        "colab_type": "code",
        "colab": {
          "base_uri": "https://localhost:8080/",
          "height": 34
        },
        "outputId": "e0ac1b7f-96ff-4a6c-9f86-e1110ecd2dcd"
      },
      "source": [
        "# lambda expression\n",
        "compound_interest = lambda P, r, n, t: round(P * (1 + r/n)**n*t, 2)\n",
        "compound_interest(1000, 0.05, 4, 5)"
      ],
      "execution_count": 70,
      "outputs": [
        {
          "output_type": "execute_result",
          "data": {
            "text/plain": [
              "5254.73"
            ]
          },
          "metadata": {
            "tags": []
          },
          "execution_count": 70
        }
      ]
    },
    {
      "cell_type": "code",
      "metadata": {
        "id": "0HqWadJv5tlh",
        "colab_type": "code",
        "colab": {
          "base_uri": "https://localhost:8080/",
          "height": 34
        },
        "outputId": "d1696207-4a47-4246-e3a9-cfc4a1ca2dbb"
      },
      "source": [
        "compound_interest(5000, 0.02, 12, 3)"
      ],
      "execution_count": 71,
      "outputs": [
        {
          "output_type": "execute_result",
          "data": {
            "text/plain": [
              "15302.77"
            ]
          },
          "metadata": {
            "tags": []
          },
          "execution_count": 71
        }
      ]
    },
    {
      "cell_type": "code",
      "metadata": {
        "id": "CZ7RupsV65Fh",
        "colab_type": "code",
        "colab": {}
      },
      "source": [
        "# def statement with docsting and test function\n",
        "def compound_interest(P, r, n, t):\n",
        "    \"\"\"\n",
        "    Computes compound interest\n",
        "\n",
        "    Args:\n",
        "        P = the principle (initial value) is the amount of money deposited or borrowed\n",
        "        r = interest rate is a percent of the principal earned or paid\n",
        "        n = number of compounding period\n",
        "        t = time in years is the length of time the money is deposited or borrowed\n",
        "\n",
        "    Returns:\n",
        "        Returns the amount after incorporating compounded time period and interest rate.\n",
        "    \"\"\"\n",
        "    output = round(P * (1 + r/n)**n*t, 2)\n",
        "    return output\n",
        "\n",
        "def test_compound_interest():\n",
        "    assert compound_interest(5000, 0.02, 12, 3) == 15302.77\n",
        "    assert compound_interest(2000, 0.07, 52, 2) == 4289.83\n",
        "test_compound_interest()"
      ],
      "execution_count": 73,
      "outputs": []
    },
    {
      "cell_type": "markdown",
      "metadata": {
        "id": "X8mk1d2buvDH",
        "colab_type": "text"
      },
      "source": [
        "#### Problem 3 -- Apply the process to create a amortized loan payment function."
      ]
    },
    {
      "cell_type": "code",
      "metadata": {
        "id": "NhLHrnqfuvDR",
        "colab_type": "code",
        "colab": {
          "base_uri": "https://localhost:8080/",
          "height": 34
        },
        "outputId": "f1d952a9-096e-4b7c-fedb-36e2ee75cf74"
      },
      "source": [
        "P = 100000\n",
        "i = 0.05 # annual rate\n",
        "n = 12\n",
        "\n",
        "monthly_rate = (1 + i)**(1/12) - 1\n",
        "monthly_rate # determine monthly interest rates\n",
        "\n",
        "(P*monthly_rate)/(1-(1+monthly_rate)**(-n)) # determine monthly loan payment"
      ],
      "execution_count": 167,
      "outputs": [
        {
          "output_type": "execute_result",
          "data": {
            "text/plain": [
              "8555.659945661433"
            ]
          },
          "metadata": {
            "tags": []
          },
          "execution_count": 167
        }
      ]
    },
    {
      "cell_type": "code",
      "metadata": {
        "id": "l7MxRvHeThMr",
        "colab_type": "code",
        "colab": {
          "base_uri": "https://localhost:8080/",
          "height": 34
        },
        "outputId": "95b78b22-a4db-43d3-a01a-248df07d3ca8"
      },
      "source": [
        "P = 250000\n",
        "i = 0.06 # annual rate\n",
        "n = 32\n",
        "\n",
        "monthly_rate = (1 + i)**(1/12) - 1\n",
        "monthly_rate # determine monthly interest rates\n",
        "\n",
        "(P*monthly_rate)/(1-(1+monthly_rate)**(-n)) # determine monthly loan payment"
      ],
      "execution_count": 141,
      "outputs": [
        {
          "output_type": "execute_result",
          "data": {
            "text/plain": [
              "8455.693012898997"
            ]
          },
          "metadata": {
            "tags": []
          },
          "execution_count": 141
        }
      ]
    },
    {
      "cell_type": "code",
      "metadata": {
        "id": "-ZuXiS-gWPNG",
        "colab_type": "code",
        "colab": {
          "base_uri": "https://localhost:8080/",
          "height": 34
        },
        "outputId": "1dc8aefa-934c-4265-89f7-4599e8c26bc1"
      },
      "source": [
        "# lambda expression(s)\n",
        "monthly_rate = lambda i: float((1 + i)**(1/12) - 1)\n",
        "monthly_rate(0.06) # convert annual rate to monthly rate"
      ],
      "execution_count": 176,
      "outputs": [
        {
          "output_type": "execute_result",
          "data": {
            "text/plain": [
              "0.004867550565343048"
            ]
          },
          "metadata": {
            "tags": []
          },
          "execution_count": 176
        }
      ]
    },
    {
      "cell_type": "code",
      "metadata": {
        "id": "9AVzhfEJe2qv",
        "colab_type": "code",
        "colab": {
          "base_uri": "https://localhost:8080/",
          "height": 34
        },
        "outputId": "fb3d74de-ff03-491c-ea8d-8124a3206ec6"
      },
      "source": [
        "monthly_rate(0.025)"
      ],
      "execution_count": 185,
      "outputs": [
        {
          "output_type": "execute_result",
          "data": {
            "text/plain": [
              "0.002059836269842741"
            ]
          },
          "metadata": {
            "tags": []
          },
          "execution_count": 185
        }
      ]
    },
    {
      "cell_type": "code",
      "metadata": {
        "id": "yWmyE6ESe7pX",
        "colab_type": "code",
        "colab": {
          "base_uri": "https://localhost:8080/",
          "height": 34
        },
        "outputId": "e33c8835-a5d5-472d-982e-035995096f56"
      },
      "source": [
        "monthly_rate(0.09)"
      ],
      "execution_count": 186,
      "outputs": [
        {
          "output_type": "execute_result",
          "data": {
            "text/plain": [
              "0.007207323316136716"
            ]
          },
          "metadata": {
            "tags": []
          },
          "execution_count": 186
        }
      ]
    },
    {
      "cell_type": "markdown",
      "metadata": {
        "id": "XeKktkVXb-Q2",
        "colab_type": "text"
      },
      "source": [
        ""
      ]
    },
    {
      "cell_type": "code",
      "metadata": {
        "id": "fa6ockjyZVWx",
        "colab_type": "code",
        "colab": {
          "base_uri": "https://localhost:8080/",
          "height": 34
        },
        "outputId": "6f086d94-01e7-4a53-de05-04a0d584ae2e"
      },
      "source": [
        "amor_payment = lambda P, monthly_rate, n: round((P*monthly_rate)/(1-(1+monthly_rate)**(-n)), 2)\n",
        "amor_payment(250000, monthly_rate(0.06), 32) # get monthly loan payment"
      ],
      "execution_count": 175,
      "outputs": [
        {
          "output_type": "execute_result",
          "data": {
            "text/plain": [
              "8455.69"
            ]
          },
          "metadata": {
            "tags": []
          },
          "execution_count": 175
        }
      ]
    },
    {
      "cell_type": "code",
      "metadata": {
        "id": "-JlR5ujDc6AP",
        "colab_type": "code",
        "colab": {
          "base_uri": "https://localhost:8080/",
          "height": 34
        },
        "outputId": "fc17b6ec-1e24-4403-d52b-49357b9a728e"
      },
      "source": [
        "amor_payment(500000, monthly_rate(0.025), 25)"
      ],
      "execution_count": 187,
      "outputs": [
        {
          "output_type": "execute_result",
          "data": {
            "text/plain": [
              "20539.97"
            ]
          },
          "metadata": {
            "tags": []
          },
          "execution_count": 187
        }
      ]
    },
    {
      "cell_type": "code",
      "metadata": {
        "id": "mYgjlCpAfA7y",
        "colab_type": "code",
        "colab": {
          "base_uri": "https://localhost:8080/",
          "height": 34
        },
        "outputId": "988d509d-590e-4561-8f20-97b1329a3dda"
      },
      "source": [
        "amor_payment(375000, monthly_rate(0.09), 50)"
      ],
      "execution_count": 188,
      "outputs": [
        {
          "output_type": "execute_result",
          "data": {
            "text/plain": [
              "8959.07"
            ]
          },
          "metadata": {
            "tags": []
          },
          "execution_count": 188
        }
      ]
    },
    {
      "cell_type": "code",
      "metadata": {
        "id": "mXva8wIdfKBC",
        "colab_type": "code",
        "colab": {}
      },
      "source": [
        ""
      ],
      "execution_count": null,
      "outputs": []
    },
    {
      "cell_type": "code",
      "metadata": {
        "id": "cDHUqea-aTNU",
        "colab_type": "code",
        "colab": {}
      },
      "source": [
        "# def statement with docsting and test function\n",
        "def monthly_rate(i):\n",
        "    \"\"\"\n",
        "    Converts annual interest rate to a monthly interest rate\n",
        "\n",
        "    Args:\n",
        "        i = annual interest rate\n",
        "\n",
        "    Returns:\n",
        "        Returns a float number that represents the monthly interest rate\n",
        "    \"\"\"\n",
        "    output = float((1 + i)**(1/12) - 1)\n",
        "    return output\n",
        "\n",
        "def test_monthly_rate():\n",
        "    assert monthly_rate(0.06) == 0.004867550565343048\n",
        "    assert monthly_rate(0.025) == 0.002059836269842741\n",
        "    assert monthly_rate(0.09) == 0.007207323316136716\n",
        "test_monthly_rate()"
      ],
      "execution_count": 193,
      "outputs": []
    },
    {
      "cell_type": "code",
      "metadata": {
        "id": "ArLHIFt3dwZj",
        "colab_type": "code",
        "colab": {}
      },
      "source": [
        "def amor_payment(P, monthly_rate, n):\n",
        "    \"\"\"\n",
        "    Calculates the amortized loan payment\n",
        "\n",
        "    Args: \n",
        "        P = the amount borrowed\n",
        "        monthly_rate = the converted annual interest rate\n",
        "        n = number of payments\n",
        "    \"\"\"\n",
        "    output = round((P*monthly_rate)/(1-(1+monthly_rate)**(-n)), 2)\n",
        "    return output\n",
        "\n",
        "def test_amor_payment():\n",
        "    assert amor_payment(250000, monthly_rate(0.06), 32) == 8455.69\n",
        "    assert amor_payment(500000, monthly_rate(0.025), 25) == 20539.97\n",
        "    assert amor_payment(375000, monthly_rate(0.09), 50) == 8959.07\n",
        "test_amor_payment()"
      ],
      "execution_count": 197,
      "outputs": []
    },
    {
      "cell_type": "markdown",
      "metadata": {
        "id": "lmSs6qiNuvDW",
        "colab_type": "text"
      },
      "source": [
        "#### Problem 4 -- Apply the process to create a remaining balance function"
      ]
    },
    {
      "cell_type": "code",
      "metadata": {
        "id": "DrcdhiyquvDX",
        "colab_type": "code",
        "colab": {}
      },
      "source": [
        "\"Your code here, insert more cells as needed\""
      ],
      "execution_count": null,
      "outputs": []
    }
  ]
}